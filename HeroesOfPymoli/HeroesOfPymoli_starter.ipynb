{
 "cells": [
  {
   "cell_type": "markdown",
   "metadata": {},
   "source": [
    "### Note\n",
    "* Instructions have been included for each segment. You do not have to follow them exactly, but they are included to help you think through the steps."
   ]
  },
  {
   "cell_type": "code",
   "execution_count": 2,
   "metadata": {},
   "outputs": [],
   "source": [
    "# Dependencies and Setup\n",
    "import pandas as pd\n",
    "\n",
    "# File to Load (Remember to Change These)\n",
    "file_to_load = \"Resources/purchase_data.csv\"\n",
    "\n",
    "# Read Purchasing File and store into Pandas data frame\n",
    "purchase_data_df = pd.read_csv(file_to_load)\n",
    "\n"
   ]
  },
  {
   "cell_type": "code",
   "execution_count": 3,
   "metadata": {},
   "outputs": [
    {
     "data": {
      "text/html": [
       "<div>\n",
       "<style scoped>\n",
       "    .dataframe tbody tr th:only-of-type {\n",
       "        vertical-align: middle;\n",
       "    }\n",
       "\n",
       "    .dataframe tbody tr th {\n",
       "        vertical-align: top;\n",
       "    }\n",
       "\n",
       "    .dataframe thead th {\n",
       "        text-align: right;\n",
       "    }\n",
       "</style>\n",
       "<table border=\"1\" class=\"dataframe\">\n",
       "  <thead>\n",
       "    <tr style=\"text-align: right;\">\n",
       "      <th></th>\n",
       "      <th>Purchase ID</th>\n",
       "      <th>SN</th>\n",
       "      <th>Age</th>\n",
       "      <th>Gender</th>\n",
       "      <th>Item ID</th>\n",
       "      <th>Item Name</th>\n",
       "      <th>Price</th>\n",
       "    </tr>\n",
       "  </thead>\n",
       "  <tbody>\n",
       "    <tr>\n",
       "      <th>0</th>\n",
       "      <td>0</td>\n",
       "      <td>Lisim78</td>\n",
       "      <td>20</td>\n",
       "      <td>Male</td>\n",
       "      <td>108</td>\n",
       "      <td>Extraction, Quickblade Of Trembling Hands</td>\n",
       "      <td>3.53</td>\n",
       "    </tr>\n",
       "    <tr>\n",
       "      <th>1</th>\n",
       "      <td>1</td>\n",
       "      <td>Lisovynya38</td>\n",
       "      <td>40</td>\n",
       "      <td>Male</td>\n",
       "      <td>143</td>\n",
       "      <td>Frenzied Scimitar</td>\n",
       "      <td>1.56</td>\n",
       "    </tr>\n",
       "    <tr>\n",
       "      <th>2</th>\n",
       "      <td>2</td>\n",
       "      <td>Ithergue48</td>\n",
       "      <td>24</td>\n",
       "      <td>Male</td>\n",
       "      <td>92</td>\n",
       "      <td>Final Critic</td>\n",
       "      <td>4.88</td>\n",
       "    </tr>\n",
       "    <tr>\n",
       "      <th>3</th>\n",
       "      <td>3</td>\n",
       "      <td>Chamassasya86</td>\n",
       "      <td>24</td>\n",
       "      <td>Male</td>\n",
       "      <td>100</td>\n",
       "      <td>Blindscythe</td>\n",
       "      <td>3.27</td>\n",
       "    </tr>\n",
       "    <tr>\n",
       "      <th>4</th>\n",
       "      <td>4</td>\n",
       "      <td>Iskosia90</td>\n",
       "      <td>23</td>\n",
       "      <td>Male</td>\n",
       "      <td>131</td>\n",
       "      <td>Fury</td>\n",
       "      <td>1.44</td>\n",
       "    </tr>\n",
       "  </tbody>\n",
       "</table>\n",
       "</div>"
      ],
      "text/plain": [
       "   Purchase ID             SN  Age Gender  Item ID  \\\n",
       "0            0        Lisim78   20   Male      108   \n",
       "1            1    Lisovynya38   40   Male      143   \n",
       "2            2     Ithergue48   24   Male       92   \n",
       "3            3  Chamassasya86   24   Male      100   \n",
       "4            4      Iskosia90   23   Male      131   \n",
       "\n",
       "                                   Item Name  Price  \n",
       "0  Extraction, Quickblade Of Trembling Hands   3.53  \n",
       "1                          Frenzied Scimitar   1.56  \n",
       "2                               Final Critic   4.88  \n",
       "3                                Blindscythe   3.27  \n",
       "4                                       Fury   1.44  "
      ]
     },
     "execution_count": 3,
     "metadata": {},
     "output_type": "execute_result"
    }
   ],
   "source": [
    "#display table\n",
    "purchase_data_df.head()\n"
   ]
  },
  {
   "cell_type": "markdown",
   "metadata": {},
   "source": [
    "## Player Count"
   ]
  },
  {
   "cell_type": "markdown",
   "metadata": {},
   "source": [
    "* Display the total number of players\n"
   ]
  },
  {
   "cell_type": "code",
   "execution_count": 4,
   "metadata": {
    "scrolled": true
   },
   "outputs": [
    {
     "data": {
      "text/html": [
       "<div>\n",
       "<style scoped>\n",
       "    .dataframe tbody tr th:only-of-type {\n",
       "        vertical-align: middle;\n",
       "    }\n",
       "\n",
       "    .dataframe tbody tr th {\n",
       "        vertical-align: top;\n",
       "    }\n",
       "\n",
       "    .dataframe thead th {\n",
       "        text-align: right;\n",
       "    }\n",
       "</style>\n",
       "<table border=\"1\" class=\"dataframe\">\n",
       "  <thead>\n",
       "    <tr style=\"text-align: right;\">\n",
       "      <th></th>\n",
       "      <th>Total Players</th>\n",
       "    </tr>\n",
       "  </thead>\n",
       "  <tbody>\n",
       "    <tr>\n",
       "      <th>0</th>\n",
       "      <td>576</td>\n",
       "    </tr>\n",
       "  </tbody>\n",
       "</table>\n",
       "</div>"
      ],
      "text/plain": [
       "   Total Players\n",
       "0            576"
      ]
     },
     "execution_count": 4,
     "metadata": {},
     "output_type": "execute_result"
    }
   ],
   "source": [
    "total_players = len(purchase_data_df[\"SN\"].unique())\n",
    "total_players_df=pd.DataFrame({\"Total Players\":[total_players]})\n",
    "total_players_df.head()\n"
   ]
  },
  {
   "cell_type": "markdown",
   "metadata": {},
   "source": [
    "## Purchasing Analysis (Total)"
   ]
  },
  {
   "cell_type": "markdown",
   "metadata": {},
   "source": [
    "* Run basic calculations to obtain number of unique items, average price, etc.\n",
    "\n",
    "\n",
    "* Create a summary data frame to hold the results\n",
    "\n",
    "\n",
    "* Optional: give the displayed data cleaner formatting\n",
    "\n",
    "\n",
    "* Display the summary data frame\n"
   ]
  },
  {
   "cell_type": "code",
   "execution_count": 10,
   "metadata": {
    "scrolled": true
   },
   "outputs": [
    {
     "data": {
      "text/html": [
       "<div>\n",
       "<style scoped>\n",
       "    .dataframe tbody tr th:only-of-type {\n",
       "        vertical-align: middle;\n",
       "    }\n",
       "\n",
       "    .dataframe tbody tr th {\n",
       "        vertical-align: top;\n",
       "    }\n",
       "\n",
       "    .dataframe thead th {\n",
       "        text-align: right;\n",
       "    }\n",
       "</style>\n",
       "<table border=\"1\" class=\"dataframe\">\n",
       "  <thead>\n",
       "    <tr style=\"text-align: right;\">\n",
       "      <th></th>\n",
       "      <th>Number of Unique Items</th>\n",
       "      <th>Average Price</th>\n",
       "      <th>Number of Purchases</th>\n",
       "      <th>Total Revenue</th>\n",
       "    </tr>\n",
       "  </thead>\n",
       "  <tbody>\n",
       "    <tr>\n",
       "      <th>0</th>\n",
       "      <td>179</td>\n",
       "      <td>3.05</td>\n",
       "      <td>780</td>\n",
       "      <td>2379.77</td>\n",
       "    </tr>\n",
       "  </tbody>\n",
       "</table>\n",
       "</div>"
      ],
      "text/plain": [
       "   Number of Unique Items  Average Price  Number of Purchases  Total Revenue\n",
       "0                     179           3.05                  780        2379.77"
      ]
     },
     "execution_count": 10,
     "metadata": {},
     "output_type": "execute_result"
    }
   ],
   "source": [
    "item_count = purchase_data_df['Item ID'].nunique()\n",
    "avg_price = round(purchase_data_df['Price'].mean(),2)\n",
    "tot_count = purchase_data_df['Price'].count()\n",
    "tot_rev = purchase_data_df['Price'].sum()\n",
    "\n",
    "purchase_analysis_df = pd.DataFrame({\"Number of Unique Items\": [item_count], \"Average Price\": avg_price, \n",
    "                    \"Number of Purchases\": [tot_count], \"Total Revenue\": tot_rev})\n",
    "\n",
    "purchase_analysis_df.style.format({\"Avg Price\": \"${:.2f}\", \"Total Revenue\": \"${:.2f}\"})\n",
    "\n",
    "purchase_analysis_df\n"
   ]
  },
  {
   "cell_type": "markdown",
   "metadata": {},
   "source": [
    "## Gender Demographics"
   ]
  },
  {
   "cell_type": "markdown",
   "metadata": {},
   "source": [
    "* Percentage and Count of Male Players\n",
    "\n",
    "\n",
    "* Percentage and Count of Female Players\n",
    "\n",
    "\n",
    "* Percentage and Count of Other / Non-Disclosed\n",
    "\n",
    "\n"
   ]
  },
  {
   "cell_type": "code",
   "execution_count": 11,
   "metadata": {},
   "outputs": [
    {
     "data": {
      "text/html": [
       "<div>\n",
       "<style scoped>\n",
       "    .dataframe tbody tr th:only-of-type {\n",
       "        vertical-align: middle;\n",
       "    }\n",
       "\n",
       "    .dataframe tbody tr th {\n",
       "        vertical-align: top;\n",
       "    }\n",
       "\n",
       "    .dataframe thead th {\n",
       "        text-align: right;\n",
       "    }\n",
       "</style>\n",
       "<table border=\"1\" class=\"dataframe\">\n",
       "  <thead>\n",
       "    <tr style=\"text-align: right;\">\n",
       "      <th></th>\n",
       "      <th>Total Count</th>\n",
       "      <th>Percentage of Players</th>\n",
       "    </tr>\n",
       "    <tr>\n",
       "      <th>Gender</th>\n",
       "      <th></th>\n",
       "      <th></th>\n",
       "    </tr>\n",
       "  </thead>\n",
       "  <tbody>\n",
       "    <tr>\n",
       "      <th>Male</th>\n",
       "      <td>484</td>\n",
       "      <td>84.03%</td>\n",
       "    </tr>\n",
       "    <tr>\n",
       "      <th>Female</th>\n",
       "      <td>81</td>\n",
       "      <td>14.06%</td>\n",
       "    </tr>\n",
       "    <tr>\n",
       "      <th>Other / Non-Disclosed</th>\n",
       "      <td>11</td>\n",
       "      <td>1.91%</td>\n",
       "    </tr>\n",
       "  </tbody>\n",
       "</table>\n",
       "</div>"
      ],
      "text/plain": [
       "                       Total Count Percentage of Players\n",
       "Gender                                                  \n",
       "Male                           484                84.03%\n",
       "Female                          81                14.06%\n",
       "Other / Non-Disclosed           11                 1.91%"
      ]
     },
     "execution_count": 11,
     "metadata": {},
     "output_type": "execute_result"
    }
   ],
   "source": [
    "female_df=purchase_data_df.loc[purchase_data_df[\"Gender\"]==\"Female\",:]\n",
    "count_female=len(female_df[\"SN\"].unique())\n",
    "\n",
    "male_df=purchase_data_df.loc[purchase_data_df[\"Gender\"]==\"Male\",:]\n",
    "count_male=len(male_df[\"SN\"].unique())\n",
    "\n",
    "other_df=purchase_data_df.loc[purchase_data_df[\"Gender\"]==\"Other / Non-Disclosed\",:]\n",
    "count_other=len(other_df[\"SN\"].unique())\n",
    "\n",
    "gender_df=pd.DataFrame({\"Gender\":[\"Male\",\"Female\",\"Other / Non-Disclosed\"],\n",
    "                        'Total Count':[count_male, count_female, count_other]})\n",
    "\n",
    "gender_df=gender_df.set_index(\"Gender\")\n",
    "\n",
    "gender_percentage=gender_df['Total Count']/total_players\n",
    "gender_df[\"Percentage of Players\"]=gender_percentage.map('{:.2%}'.format)\n",
    "gender_df\n"
   ]
  },
  {
   "cell_type": "markdown",
   "metadata": {},
   "source": [
    "\n",
    "## Purchasing Analysis (Gender)"
   ]
  },
  {
   "cell_type": "markdown",
   "metadata": {},
   "source": [
    "* Run basic calculations to obtain purchase count, avg. purchase price, avg. purchase total per person etc. by gender\n",
    "\n",
    "\n",
    "\n",
    "\n",
    "* Create a summary data frame to hold the results\n",
    "\n",
    "\n",
    "* Optional: give the displayed data cleaner formatting\n",
    "\n",
    "\n",
    "* Display the summary data frame"
   ]
  },
  {
   "cell_type": "code",
   "execution_count": 12,
   "metadata": {},
   "outputs": [
    {
     "data": {
      "text/html": [
       "<style  type=\"text/css\" >\n",
       "</style><table id=\"T_7b566_\" ><thead>    <tr>        <th class=\"blank level0\" ></th>        <th class=\"col_heading level0 col0\" >Purchase Count</th>        <th class=\"col_heading level0 col1\" >Average Purchase Price</th>        <th class=\"col_heading level0 col2\" >Total Purchase Value</th>        <th class=\"col_heading level0 col3\" >Avg Total Purchase per Person</th>    </tr></thead><tbody>\n",
       "                <tr>\n",
       "                        <th id=\"T_7b566_level0_row0\" class=\"row_heading level0 row0\" >Female</th>\n",
       "                        <td id=\"T_7b566_row0_col0\" class=\"data row0 col0\" >113</td>\n",
       "                        <td id=\"T_7b566_row0_col1\" class=\"data row0 col1\" >$3.20</td>\n",
       "                        <td id=\"T_7b566_row0_col2\" class=\"data row0 col2\" >$361.94</td>\n",
       "                        <td id=\"T_7b566_row0_col3\" class=\"data row0 col3\" >$4.47</td>\n",
       "            </tr>\n",
       "            <tr>\n",
       "                        <th id=\"T_7b566_level0_row1\" class=\"row_heading level0 row1\" >Male</th>\n",
       "                        <td id=\"T_7b566_row1_col0\" class=\"data row1 col0\" >652</td>\n",
       "                        <td id=\"T_7b566_row1_col1\" class=\"data row1 col1\" >$3.02</td>\n",
       "                        <td id=\"T_7b566_row1_col2\" class=\"data row1 col2\" >$1,967.64</td>\n",
       "                        <td id=\"T_7b566_row1_col3\" class=\"data row1 col3\" >$4.07</td>\n",
       "            </tr>\n",
       "            <tr>\n",
       "                        <th id=\"T_7b566_level0_row2\" class=\"row_heading level0 row2\" >Other / Non-Disclosed</th>\n",
       "                        <td id=\"T_7b566_row2_col0\" class=\"data row2 col0\" >15</td>\n",
       "                        <td id=\"T_7b566_row2_col1\" class=\"data row2 col1\" >$3.35</td>\n",
       "                        <td id=\"T_7b566_row2_col2\" class=\"data row2 col2\" >$50.19</td>\n",
       "                        <td id=\"T_7b566_row2_col3\" class=\"data row2 col3\" >$4.56</td>\n",
       "            </tr>\n",
       "    </tbody></table>"
      ],
      "text/plain": [
       "<pandas.io.formats.style.Styler at 0x7fa2a37209a0>"
      ]
     },
     "execution_count": 12,
     "metadata": {},
     "output_type": "execute_result"
    }
   ],
   "source": [
    "gender_group_df= purchase_data_df.groupby(['Gender'])\n",
    "gender_group_sum=gender_group_df[\"Price\"].sum()\n",
    "gender_avg_price=gender_group_df[\"Price\"].mean()\n",
    "gender_group_avg=gender_group_sum/gender_df['Total Count']\n",
    "\n",
    "\n",
    "gender_counts= purchase_data_df['Gender'].value_counts()\n",
    "\n",
    "\n",
    "\n",
    "gender_analysis_df =pd.DataFrame({'Purchase Count': gender_counts,\n",
    "                                'Average Purchase Price': gender_avg_price,\n",
    "                                 'Total Purchase Value': gender_group_sum,\n",
    "                                'Avg Total Purchase per Person':gender_group_avg\n",
    "                                 })\n",
    "\n",
    "format_table_gender={'Average Purchase Price': '${:,.2f}',\n",
    "                   'Total Purchase Value': '${:,.2f}',\n",
    "                    'Avg Total Purchase per Person': '${:,.2f}'}\n",
    "\n",
    "gender_analysis_df=gender_analysis_df.style.format(format_table_gender)\n",
    "\n",
    "gender_analysis_df\n"
   ]
  },
  {
   "cell_type": "markdown",
   "metadata": {},
   "source": [
    "## Age Demographics"
   ]
  },
  {
   "cell_type": "markdown",
   "metadata": {},
   "source": [
    "* Establish bins for ages\n",
    "\n",
    "\n",
    "* Categorize the existing players using the age bins. Hint: use pd.cut()\n",
    "\n",
    "\n",
    "* Calculate the numbers and percentages by age group\n",
    "\n",
    "\n",
    "* Create a summary data frame to hold the results\n",
    "\n",
    "\n",
    "* Optional: round the percentage column to two decimal points\n",
    "\n",
    "\n",
    "* Display Age Demographics Table\n"
   ]
  },
  {
   "cell_type": "code",
   "execution_count": 14,
   "metadata": {},
   "outputs": [
    {
     "data": {
      "text/html": [
       "<div>\n",
       "<style scoped>\n",
       "    .dataframe tbody tr th:only-of-type {\n",
       "        vertical-align: middle;\n",
       "    }\n",
       "\n",
       "    .dataframe tbody tr th {\n",
       "        vertical-align: top;\n",
       "    }\n",
       "\n",
       "    .dataframe thead th {\n",
       "        text-align: right;\n",
       "    }\n",
       "</style>\n",
       "<table border=\"1\" class=\"dataframe\">\n",
       "  <thead>\n",
       "    <tr style=\"text-align: right;\">\n",
       "      <th></th>\n",
       "      <th>Total Count</th>\n",
       "      <th>Percentage of Players</th>\n",
       "    </tr>\n",
       "    <tr>\n",
       "      <th>Age Group</th>\n",
       "      <th></th>\n",
       "      <th></th>\n",
       "    </tr>\n",
       "  </thead>\n",
       "  <tbody>\n",
       "    <tr>\n",
       "      <th>&lt;10</th>\n",
       "      <td>17</td>\n",
       "      <td>2.95%</td>\n",
       "    </tr>\n",
       "    <tr>\n",
       "      <th>10-14</th>\n",
       "      <td>22</td>\n",
       "      <td>3.82%</td>\n",
       "    </tr>\n",
       "    <tr>\n",
       "      <th>15-19</th>\n",
       "      <td>107</td>\n",
       "      <td>18.58%</td>\n",
       "    </tr>\n",
       "    <tr>\n",
       "      <th>20-24</th>\n",
       "      <td>258</td>\n",
       "      <td>44.79%</td>\n",
       "    </tr>\n",
       "    <tr>\n",
       "      <th>25-29</th>\n",
       "      <td>77</td>\n",
       "      <td>13.37%</td>\n",
       "    </tr>\n",
       "    <tr>\n",
       "      <th>30-34</th>\n",
       "      <td>52</td>\n",
       "      <td>9.03%</td>\n",
       "    </tr>\n",
       "    <tr>\n",
       "      <th>35-39</th>\n",
       "      <td>31</td>\n",
       "      <td>5.38%</td>\n",
       "    </tr>\n",
       "    <tr>\n",
       "      <th>40+</th>\n",
       "      <td>12</td>\n",
       "      <td>2.08%</td>\n",
       "    </tr>\n",
       "  </tbody>\n",
       "</table>\n",
       "</div>"
      ],
      "text/plain": [
       "           Total Count Percentage of Players\n",
       "Age Group                                   \n",
       "<10                 17                 2.95%\n",
       "10-14               22                 3.82%\n",
       "15-19              107                18.58%\n",
       "20-24              258                44.79%\n",
       "25-29               77                13.37%\n",
       "30-34               52                 9.03%\n",
       "35-39               31                 5.38%\n",
       "40+                 12                 2.08%"
      ]
     },
     "execution_count": 14,
     "metadata": {},
     "output_type": "execute_result"
    }
   ],
   "source": [
    "age_bins = [0,9,14,19,24,29,34,39,45]\n",
    "age_ranges = [\"<10\",\"10-14\",\"15-19\",\"20-24\",\"25-29\",\"30-34\",\"35-39\",\"40+\"]\n",
    "purchase_data_df[\"Age Group\"] = pd.cut(purchase_data_df[\"Age\"],age_bins, labels= age_ranges)\n",
    "\n",
    "age_groups = purchase_data_df.groupby(\"Age Group\")\n",
    "\n",
    "age_total_count = age_groups[\"SN\"].nunique()\n",
    "\n",
    "age_percent = (age_total_count/total_players)\n",
    "age_percent\n",
    "\n",
    "age_demo = pd.DataFrame({\"Total Count\": age_total_count, \"Percentage of Players\": age_percent})\n",
    "age_demo['Percentage of Players'] = age_demo['Percentage of Players'].map(\"{:,.2%}\".format)\n",
    "\n",
    "age_demo\n",
    "\n"
   ]
  },
  {
   "cell_type": "markdown",
   "metadata": {},
   "source": [
    "## Purchasing Analysis (Age)"
   ]
  },
  {
   "cell_type": "markdown",
   "metadata": {},
   "source": [
    "* Bin the purchase_data data frame by age\n",
    "\n",
    "\n",
    "* Run basic calculations to obtain purchase count, avg. purchase price, avg. purchase total per person etc. in the table below\n",
    "\n",
    "\n",
    "* Create a summary data frame to hold the results\n",
    "\n",
    "\n",
    "* Optional: give the displayed data cleaner formatting\n",
    "\n",
    "\n",
    "* Display the summary data frame"
   ]
  },
  {
   "cell_type": "code",
   "execution_count": 15,
   "metadata": {},
   "outputs": [
    {
     "data": {
      "text/html": [
       "<style  type=\"text/css\" >\n",
       "</style><table id=\"T_7dd65_\" ><thead>    <tr>        <th class=\"blank level0\" ></th>        <th class=\"col_heading level0 col0\" >Purchase Count</th>        <th class=\"col_heading level0 col1\" >Avg Purchase Price</th>        <th class=\"col_heading level0 col2\" >Total Purchase Value</th>        <th class=\"col_heading level0 col3\" >Avg Total Purchase per Person</th>    </tr>    <tr>        <th class=\"index_name level0\" >Age Group</th>        <th class=\"blank\" ></th>        <th class=\"blank\" ></th>        <th class=\"blank\" ></th>        <th class=\"blank\" ></th>    </tr></thead><tbody>\n",
       "                <tr>\n",
       "                        <th id=\"T_7dd65_level0_row0\" class=\"row_heading level0 row0\" ><10</th>\n",
       "                        <td id=\"T_7dd65_row0_col0\" class=\"data row0 col0\" >23</td>\n",
       "                        <td id=\"T_7dd65_row0_col1\" class=\"data row0 col1\" >$3.35</td>\n",
       "                        <td id=\"T_7dd65_row0_col2\" class=\"data row0 col2\" >$77.13</td>\n",
       "                        <td id=\"T_7dd65_row0_col3\" class=\"data row0 col3\" >$4.54</td>\n",
       "            </tr>\n",
       "            <tr>\n",
       "                        <th id=\"T_7dd65_level0_row1\" class=\"row_heading level0 row1\" >10-14</th>\n",
       "                        <td id=\"T_7dd65_row1_col0\" class=\"data row1 col0\" >28</td>\n",
       "                        <td id=\"T_7dd65_row1_col1\" class=\"data row1 col1\" >$2.96</td>\n",
       "                        <td id=\"T_7dd65_row1_col2\" class=\"data row1 col2\" >$82.78</td>\n",
       "                        <td id=\"T_7dd65_row1_col3\" class=\"data row1 col3\" >$3.76</td>\n",
       "            </tr>\n",
       "            <tr>\n",
       "                        <th id=\"T_7dd65_level0_row2\" class=\"row_heading level0 row2\" >15-19</th>\n",
       "                        <td id=\"T_7dd65_row2_col0\" class=\"data row2 col0\" >136</td>\n",
       "                        <td id=\"T_7dd65_row2_col1\" class=\"data row2 col1\" >$3.04</td>\n",
       "                        <td id=\"T_7dd65_row2_col2\" class=\"data row2 col2\" >$412.89</td>\n",
       "                        <td id=\"T_7dd65_row2_col3\" class=\"data row2 col3\" >$3.86</td>\n",
       "            </tr>\n",
       "            <tr>\n",
       "                        <th id=\"T_7dd65_level0_row3\" class=\"row_heading level0 row3\" >20-24</th>\n",
       "                        <td id=\"T_7dd65_row3_col0\" class=\"data row3 col0\" >365</td>\n",
       "                        <td id=\"T_7dd65_row3_col1\" class=\"data row3 col1\" >$3.05</td>\n",
       "                        <td id=\"T_7dd65_row3_col2\" class=\"data row3 col2\" >$1,114.06</td>\n",
       "                        <td id=\"T_7dd65_row3_col3\" class=\"data row3 col3\" >$4.32</td>\n",
       "            </tr>\n",
       "            <tr>\n",
       "                        <th id=\"T_7dd65_level0_row4\" class=\"row_heading level0 row4\" >25-29</th>\n",
       "                        <td id=\"T_7dd65_row4_col0\" class=\"data row4 col0\" >101</td>\n",
       "                        <td id=\"T_7dd65_row4_col1\" class=\"data row4 col1\" >$2.90</td>\n",
       "                        <td id=\"T_7dd65_row4_col2\" class=\"data row4 col2\" >$293.00</td>\n",
       "                        <td id=\"T_7dd65_row4_col3\" class=\"data row4 col3\" >$3.81</td>\n",
       "            </tr>\n",
       "            <tr>\n",
       "                        <th id=\"T_7dd65_level0_row5\" class=\"row_heading level0 row5\" >30-34</th>\n",
       "                        <td id=\"T_7dd65_row5_col0\" class=\"data row5 col0\" >73</td>\n",
       "                        <td id=\"T_7dd65_row5_col1\" class=\"data row5 col1\" >$2.93</td>\n",
       "                        <td id=\"T_7dd65_row5_col2\" class=\"data row5 col2\" >$214.00</td>\n",
       "                        <td id=\"T_7dd65_row5_col3\" class=\"data row5 col3\" >$4.12</td>\n",
       "            </tr>\n",
       "            <tr>\n",
       "                        <th id=\"T_7dd65_level0_row6\" class=\"row_heading level0 row6\" >35-39</th>\n",
       "                        <td id=\"T_7dd65_row6_col0\" class=\"data row6 col0\" >41</td>\n",
       "                        <td id=\"T_7dd65_row6_col1\" class=\"data row6 col1\" >$3.60</td>\n",
       "                        <td id=\"T_7dd65_row6_col2\" class=\"data row6 col2\" >$147.67</td>\n",
       "                        <td id=\"T_7dd65_row6_col3\" class=\"data row6 col3\" >$4.76</td>\n",
       "            </tr>\n",
       "            <tr>\n",
       "                        <th id=\"T_7dd65_level0_row7\" class=\"row_heading level0 row7\" >40+</th>\n",
       "                        <td id=\"T_7dd65_row7_col0\" class=\"data row7 col0\" >13</td>\n",
       "                        <td id=\"T_7dd65_row7_col1\" class=\"data row7 col1\" >$2.94</td>\n",
       "                        <td id=\"T_7dd65_row7_col2\" class=\"data row7 col2\" >$38.24</td>\n",
       "                        <td id=\"T_7dd65_row7_col3\" class=\"data row7 col3\" >$3.19</td>\n",
       "            </tr>\n",
       "    </tbody></table>"
      ],
      "text/plain": [
       "<pandas.io.formats.style.Styler at 0x7fa2a3708b50>"
      ]
     },
     "execution_count": 15,
     "metadata": {},
     "output_type": "execute_result"
    }
   ],
   "source": [
    "#age_groups = purchase_data_df.groupby(\"Age Group\")\n",
    "\n",
    "age_purch_count = age_groups[\"Purchase ID\"].count()\n",
    "age_avg_purch = age_groups[\"Price\"].mean()\n",
    "age_total_purch = age_groups[\"Price\"].sum()\n",
    "age_avg_total_person = age_total_purch/age_total_count\n",
    "\n",
    "\n",
    "age_purchase = pd.DataFrame({\"Purchase Count\": age_purch_count, \"Avg Purchase Price\": age_avg_purch,\n",
    "                             \"Total Purchase Value\": age_total_purch, \"Avg Total Purchase per Person\": age_avg_total_person})\n",
    "\n",
    "age_purchase.index.name = \"Age Group\"\n",
    "\n",
    "age_purchase.style.format({\"Avg Purchase Price\":\"${:.2f}\", \"Total Purchase Value\":\"${:,.2f}\",\n",
    "                        \"Avg Total Purchase per Person\":\"${:.2f}\"})"
   ]
  },
  {
   "cell_type": "markdown",
   "metadata": {},
   "source": [
    "## Top Spenders"
   ]
  },
  {
   "cell_type": "markdown",
   "metadata": {},
   "source": [
    "* Run basic calculations to obtain the results in the table below\n",
    "\n",
    "\n",
    "* Create a summary data frame to hold the results\n",
    "\n",
    "\n",
    "* Sort the total purchase value column in descending order\n",
    "\n",
    "\n",
    "* Optional: give the displayed data cleaner formatting\n",
    "\n",
    "\n",
    "* Display a preview of the summary data frame\n",
    "\n"
   ]
  },
  {
   "cell_type": "code",
   "execution_count": 16,
   "metadata": {},
   "outputs": [
    {
     "data": {
      "text/html": [
       "<style  type=\"text/css\" >\n",
       "</style><table id=\"T_2d1b8_\" ><thead>    <tr>        <th class=\"blank level0\" ></th>        <th class=\"col_heading level0 col0\" >Purchase Count</th>        <th class=\"col_heading level0 col1\" >Avg Purchase Price</th>        <th class=\"col_heading level0 col2\" >Total Purchase Value</th>    </tr>    <tr>        <th class=\"index_name level0\" >SN</th>        <th class=\"blank\" ></th>        <th class=\"blank\" ></th>        <th class=\"blank\" ></th>    </tr></thead><tbody>\n",
       "                <tr>\n",
       "                        <th id=\"T_2d1b8_level0_row0\" class=\"row_heading level0 row0\" >Lisosia93</th>\n",
       "                        <td id=\"T_2d1b8_row0_col0\" class=\"data row0 col0\" >5</td>\n",
       "                        <td id=\"T_2d1b8_row0_col1\" class=\"data row0 col1\" >$3.79</td>\n",
       "                        <td id=\"T_2d1b8_row0_col2\" class=\"data row0 col2\" >$18.96</td>\n",
       "            </tr>\n",
       "            <tr>\n",
       "                        <th id=\"T_2d1b8_level0_row1\" class=\"row_heading level0 row1\" >Idastidru52</th>\n",
       "                        <td id=\"T_2d1b8_row1_col0\" class=\"data row1 col0\" >4</td>\n",
       "                        <td id=\"T_2d1b8_row1_col1\" class=\"data row1 col1\" >$3.86</td>\n",
       "                        <td id=\"T_2d1b8_row1_col2\" class=\"data row1 col2\" >$15.45</td>\n",
       "            </tr>\n",
       "            <tr>\n",
       "                        <th id=\"T_2d1b8_level0_row2\" class=\"row_heading level0 row2\" >Chamjask73</th>\n",
       "                        <td id=\"T_2d1b8_row2_col0\" class=\"data row2 col0\" >3</td>\n",
       "                        <td id=\"T_2d1b8_row2_col1\" class=\"data row2 col1\" >$4.61</td>\n",
       "                        <td id=\"T_2d1b8_row2_col2\" class=\"data row2 col2\" >$13.83</td>\n",
       "            </tr>\n",
       "            <tr>\n",
       "                        <th id=\"T_2d1b8_level0_row3\" class=\"row_heading level0 row3\" >Iral74</th>\n",
       "                        <td id=\"T_2d1b8_row3_col0\" class=\"data row3 col0\" >4</td>\n",
       "                        <td id=\"T_2d1b8_row3_col1\" class=\"data row3 col1\" >$3.40</td>\n",
       "                        <td id=\"T_2d1b8_row3_col2\" class=\"data row3 col2\" >$13.62</td>\n",
       "            </tr>\n",
       "            <tr>\n",
       "                        <th id=\"T_2d1b8_level0_row4\" class=\"row_heading level0 row4\" >Iskadarya95</th>\n",
       "                        <td id=\"T_2d1b8_row4_col0\" class=\"data row4 col0\" >3</td>\n",
       "                        <td id=\"T_2d1b8_row4_col1\" class=\"data row4 col1\" >$4.37</td>\n",
       "                        <td id=\"T_2d1b8_row4_col2\" class=\"data row4 col2\" >$13.10</td>\n",
       "            </tr>\n",
       "    </tbody></table>"
      ],
      "text/plain": [
       "<pandas.io.formats.style.Styler at 0x7fa2a379fb80>"
      ]
     },
     "execution_count": 16,
     "metadata": {},
     "output_type": "execute_result"
    }
   ],
   "source": [
    "top_spenders = purchase_data_df.groupby([\"SN\"])\n",
    "purchase_count = top_spenders[\"Purchase ID\"].count()\n",
    "top_avg_purch = top_spenders[\"Price\"].mean()\n",
    "top_total_purch = top_spenders[\"Price\"].sum()\n",
    "\n",
    "top_spenders_table = pd.DataFrame({\"Purchase Count\": purchase_count, \"Avg Purchase Price\": top_avg_purch,\n",
    "                                \"Total Purchase Value\": top_total_purch})\n",
    "\n",
    "top_spenders_table.index.name = \"SN\"\n",
    "\n",
    "top_spenders_summary = top_spenders_table.sort_values(\"Total Purchase Value\", ascending=False).head(5)\n",
    "\n",
    "top_spenders_summary.style.format({\"Avg Purchase Price\":\"${:.2f}\", \"Total Purchase Value\":\"${:,.2f}\"})\n",
    "\n"
   ]
  },
  {
   "cell_type": "markdown",
   "metadata": {},
   "source": [
    "## Most Popular Items"
   ]
  },
  {
   "cell_type": "markdown",
   "metadata": {},
   "source": [
    "* Retrieve the Item ID, Item Name, and Item Price columns\n",
    "\n",
    "\n",
    "* Group by Item ID and Item Name. Perform calculations to obtain purchase count, average item price, and total purchase value\n",
    "\n",
    "\n",
    "* Create a summary data frame to hold the results\n",
    "\n",
    "\n",
    "* Sort the purchase count column in descending order\n",
    "\n",
    "\n",
    "* Optional: give the displayed data cleaner formatting\n",
    "\n",
    "\n",
    "* Display a preview of the summary data frame\n",
    "\n"
   ]
  },
  {
   "cell_type": "code",
   "execution_count": 18,
   "metadata": {},
   "outputs": [
    {
     "data": {
      "text/html": [
       "<style  type=\"text/css\" >\n",
       "</style><table id=\"T_2af2f_\" ><thead>    <tr>        <th class=\"blank\" ></th>        <th class=\"blank level0\" ></th>        <th class=\"col_heading level0 col0\" >Purchase Count</th>        <th class=\"col_heading level0 col1\" >Item Price</th>        <th class=\"col_heading level0 col2\" >Total Purchase Value</th>    </tr>    <tr>        <th class=\"index_name level0\" >Item ID</th>        <th class=\"index_name level1\" >Item Name</th>        <th class=\"blank\" ></th>        <th class=\"blank\" ></th>        <th class=\"blank\" ></th>    </tr></thead><tbody>\n",
       "                <tr>\n",
       "                        <th id=\"T_2af2f_level0_row0\" class=\"row_heading level0 row0\" >92</th>\n",
       "                        <th id=\"T_2af2f_level1_row0\" class=\"row_heading level1 row0\" >Final Critic</th>\n",
       "                        <td id=\"T_2af2f_row0_col0\" class=\"data row0 col0\" >13</td>\n",
       "                        <td id=\"T_2af2f_row0_col1\" class=\"data row0 col1\" >$4.61</td>\n",
       "                        <td id=\"T_2af2f_row0_col2\" class=\"data row0 col2\" >$59.99</td>\n",
       "            </tr>\n",
       "            <tr>\n",
       "                        <th id=\"T_2af2f_level0_row1\" class=\"row_heading level0 row1\" >178</th>\n",
       "                        <th id=\"T_2af2f_level1_row1\" class=\"row_heading level1 row1\" >Oathbreaker, Last Hope of the Breaking Storm</th>\n",
       "                        <td id=\"T_2af2f_row1_col0\" class=\"data row1 col0\" >12</td>\n",
       "                        <td id=\"T_2af2f_row1_col1\" class=\"data row1 col1\" >$4.23</td>\n",
       "                        <td id=\"T_2af2f_row1_col2\" class=\"data row1 col2\" >$50.76</td>\n",
       "            </tr>\n",
       "            <tr>\n",
       "                        <th id=\"T_2af2f_level0_row2\" class=\"row_heading level0 row2\" >145</th>\n",
       "                        <th id=\"T_2af2f_level1_row2\" class=\"row_heading level1 row2\" >Fiery Glass Crusader</th>\n",
       "                        <td id=\"T_2af2f_row2_col0\" class=\"data row2 col0\" >9</td>\n",
       "                        <td id=\"T_2af2f_row2_col1\" class=\"data row2 col1\" >$4.58</td>\n",
       "                        <td id=\"T_2af2f_row2_col2\" class=\"data row2 col2\" >$41.22</td>\n",
       "            </tr>\n",
       "            <tr>\n",
       "                        <th id=\"T_2af2f_level0_row3\" class=\"row_heading level0 row3\" >132</th>\n",
       "                        <th id=\"T_2af2f_level1_row3\" class=\"row_heading level1 row3\" >Persuasion</th>\n",
       "                        <td id=\"T_2af2f_row3_col0\" class=\"data row3 col0\" >9</td>\n",
       "                        <td id=\"T_2af2f_row3_col1\" class=\"data row3 col1\" >$3.22</td>\n",
       "                        <td id=\"T_2af2f_row3_col2\" class=\"data row3 col2\" >$28.99</td>\n",
       "            </tr>\n",
       "            <tr>\n",
       "                        <th id=\"T_2af2f_level0_row4\" class=\"row_heading level0 row4\" >108</th>\n",
       "                        <th id=\"T_2af2f_level1_row4\" class=\"row_heading level1 row4\" >Extraction, Quickblade Of Trembling Hands</th>\n",
       "                        <td id=\"T_2af2f_row4_col0\" class=\"data row4 col0\" >9</td>\n",
       "                        <td id=\"T_2af2f_row4_col1\" class=\"data row4 col1\" >$3.53</td>\n",
       "                        <td id=\"T_2af2f_row4_col2\" class=\"data row4 col2\" >$31.77</td>\n",
       "            </tr>\n",
       "            <tr>\n",
       "                        <th id=\"T_2af2f_level0_row5\" class=\"row_heading level0 row5\" >82</th>\n",
       "                        <th id=\"T_2af2f_level1_row5\" class=\"row_heading level1 row5\" >Nirvana</th>\n",
       "                        <td id=\"T_2af2f_row5_col0\" class=\"data row5 col0\" >9</td>\n",
       "                        <td id=\"T_2af2f_row5_col1\" class=\"data row5 col1\" >$4.90</td>\n",
       "                        <td id=\"T_2af2f_row5_col2\" class=\"data row5 col2\" >$44.10</td>\n",
       "            </tr>\n",
       "            <tr>\n",
       "                        <th id=\"T_2af2f_level0_row6\" class=\"row_heading level0 row6\" >75</th>\n",
       "                        <th id=\"T_2af2f_level1_row6\" class=\"row_heading level1 row6\" >Brutality Ivory Warmace</th>\n",
       "                        <td id=\"T_2af2f_row6_col0\" class=\"data row6 col0\" >8</td>\n",
       "                        <td id=\"T_2af2f_row6_col1\" class=\"data row6 col1\" >$2.42</td>\n",
       "                        <td id=\"T_2af2f_row6_col2\" class=\"data row6 col2\" >$19.36</td>\n",
       "            </tr>\n",
       "            <tr>\n",
       "                        <th id=\"T_2af2f_level0_row7\" class=\"row_heading level0 row7\" >103</th>\n",
       "                        <th id=\"T_2af2f_level1_row7\" class=\"row_heading level1 row7\" >Singed Scalpel</th>\n",
       "                        <td id=\"T_2af2f_row7_col0\" class=\"data row7 col0\" >8</td>\n",
       "                        <td id=\"T_2af2f_row7_col1\" class=\"data row7 col1\" >$4.35</td>\n",
       "                        <td id=\"T_2af2f_row7_col2\" class=\"data row7 col2\" >$34.80</td>\n",
       "            </tr>\n",
       "            <tr>\n",
       "                        <th id=\"T_2af2f_level0_row8\" class=\"row_heading level0 row8\" >34</th>\n",
       "                        <th id=\"T_2af2f_level1_row8\" class=\"row_heading level1 row8\" >Retribution Axe</th>\n",
       "                        <td id=\"T_2af2f_row8_col0\" class=\"data row8 col0\" >8</td>\n",
       "                        <td id=\"T_2af2f_row8_col1\" class=\"data row8 col1\" >$2.22</td>\n",
       "                        <td id=\"T_2af2f_row8_col2\" class=\"data row8 col2\" >$17.76</td>\n",
       "            </tr>\n",
       "            <tr>\n",
       "                        <th id=\"T_2af2f_level0_row9\" class=\"row_heading level0 row9\" >37</th>\n",
       "                        <th id=\"T_2af2f_level1_row9\" class=\"row_heading level1 row9\" >Shadow Strike, Glory of Ending Hope</th>\n",
       "                        <td id=\"T_2af2f_row9_col0\" class=\"data row9 col0\" >8</td>\n",
       "                        <td id=\"T_2af2f_row9_col1\" class=\"data row9 col1\" >$3.16</td>\n",
       "                        <td id=\"T_2af2f_row9_col2\" class=\"data row9 col2\" >$25.28</td>\n",
       "            </tr>\n",
       "    </tbody></table>"
      ],
      "text/plain": [
       "<pandas.io.formats.style.Styler at 0x7fa2a3708eb0>"
      ]
     },
     "execution_count": 18,
     "metadata": {},
     "output_type": "execute_result"
    }
   ],
   "source": [
    "popular_items = purchase_data_df.groupby([\"Item ID\", \"Item Name\"])\n",
    "popular_purch_count = popular_items[\"Purchase ID\"].count()\n",
    "popular_total_purch = popular_items[\"Price\"].sum()\n",
    "item_price = popular_total_purch/popular_purch_count\n",
    "\n",
    "popular_items_table = pd.DataFrame({\"Purchase Count\": popular_purch_count, \"Item Price\": item_price,\n",
    "                              \"Total Purchase Value\": popular_total_purch})\n",
    "\n",
    "popular_summary = popular_items_table.sort_values(\"Purchase Count\", ascending=False).head(10)\n",
    "\n",
    "popular_summary.style.format({\"Item Price\":\"${:.2f}\", \"Total Purchase Value\":\"${:,.2f}\"})"
   ]
  },
  {
   "cell_type": "markdown",
   "metadata": {},
   "source": [
    "## Most Profitable Items"
   ]
  },
  {
   "cell_type": "markdown",
   "metadata": {},
   "source": [
    "* Sort the above table by total purchase value in descending order\n",
    "\n",
    "\n",
    "* Optional: give the displayed data cleaner formatting\n",
    "\n",
    "\n",
    "* Display a preview of the data frame\n",
    "\n"
   ]
  },
  {
   "cell_type": "code",
   "execution_count": 19,
   "metadata": {
    "scrolled": true
   },
   "outputs": [
    {
     "data": {
      "text/html": [
       "<style  type=\"text/css\" >\n",
       "</style><table id=\"T_a11ba_\" ><thead>    <tr>        <th class=\"blank\" ></th>        <th class=\"blank level0\" ></th>        <th class=\"col_heading level0 col0\" >Purchase Count</th>        <th class=\"col_heading level0 col1\" >Item Price</th>        <th class=\"col_heading level0 col2\" >Total Purchase Value</th>    </tr>    <tr>        <th class=\"index_name level0\" >Item ID</th>        <th class=\"index_name level1\" >Item Name</th>        <th class=\"blank\" ></th>        <th class=\"blank\" ></th>        <th class=\"blank\" ></th>    </tr></thead><tbody>\n",
       "                <tr>\n",
       "                        <th id=\"T_a11ba_level0_row0\" class=\"row_heading level0 row0\" >92</th>\n",
       "                        <th id=\"T_a11ba_level1_row0\" class=\"row_heading level1 row0\" >Final Critic</th>\n",
       "                        <td id=\"T_a11ba_row0_col0\" class=\"data row0 col0\" >13</td>\n",
       "                        <td id=\"T_a11ba_row0_col1\" class=\"data row0 col1\" >$4.61</td>\n",
       "                        <td id=\"T_a11ba_row0_col2\" class=\"data row0 col2\" >$59.99</td>\n",
       "            </tr>\n",
       "            <tr>\n",
       "                        <th id=\"T_a11ba_level0_row1\" class=\"row_heading level0 row1\" >178</th>\n",
       "                        <th id=\"T_a11ba_level1_row1\" class=\"row_heading level1 row1\" >Oathbreaker, Last Hope of the Breaking Storm</th>\n",
       "                        <td id=\"T_a11ba_row1_col0\" class=\"data row1 col0\" >12</td>\n",
       "                        <td id=\"T_a11ba_row1_col1\" class=\"data row1 col1\" >$4.23</td>\n",
       "                        <td id=\"T_a11ba_row1_col2\" class=\"data row1 col2\" >$50.76</td>\n",
       "            </tr>\n",
       "            <tr>\n",
       "                        <th id=\"T_a11ba_level0_row2\" class=\"row_heading level0 row2\" >82</th>\n",
       "                        <th id=\"T_a11ba_level1_row2\" class=\"row_heading level1 row2\" >Nirvana</th>\n",
       "                        <td id=\"T_a11ba_row2_col0\" class=\"data row2 col0\" >9</td>\n",
       "                        <td id=\"T_a11ba_row2_col1\" class=\"data row2 col1\" >$4.90</td>\n",
       "                        <td id=\"T_a11ba_row2_col2\" class=\"data row2 col2\" >$44.10</td>\n",
       "            </tr>\n",
       "            <tr>\n",
       "                        <th id=\"T_a11ba_level0_row3\" class=\"row_heading level0 row3\" >145</th>\n",
       "                        <th id=\"T_a11ba_level1_row3\" class=\"row_heading level1 row3\" >Fiery Glass Crusader</th>\n",
       "                        <td id=\"T_a11ba_row3_col0\" class=\"data row3 col0\" >9</td>\n",
       "                        <td id=\"T_a11ba_row3_col1\" class=\"data row3 col1\" >$4.58</td>\n",
       "                        <td id=\"T_a11ba_row3_col2\" class=\"data row3 col2\" >$41.22</td>\n",
       "            </tr>\n",
       "            <tr>\n",
       "                        <th id=\"T_a11ba_level0_row4\" class=\"row_heading level0 row4\" >103</th>\n",
       "                        <th id=\"T_a11ba_level1_row4\" class=\"row_heading level1 row4\" >Singed Scalpel</th>\n",
       "                        <td id=\"T_a11ba_row4_col0\" class=\"data row4 col0\" >8</td>\n",
       "                        <td id=\"T_a11ba_row4_col1\" class=\"data row4 col1\" >$4.35</td>\n",
       "                        <td id=\"T_a11ba_row4_col2\" class=\"data row4 col2\" >$34.80</td>\n",
       "            </tr>\n",
       "            <tr>\n",
       "                        <th id=\"T_a11ba_level0_row5\" class=\"row_heading level0 row5\" >59</th>\n",
       "                        <th id=\"T_a11ba_level1_row5\" class=\"row_heading level1 row5\" >Lightning, Etcher of the King</th>\n",
       "                        <td id=\"T_a11ba_row5_col0\" class=\"data row5 col0\" >8</td>\n",
       "                        <td id=\"T_a11ba_row5_col1\" class=\"data row5 col1\" >$4.23</td>\n",
       "                        <td id=\"T_a11ba_row5_col2\" class=\"data row5 col2\" >$33.84</td>\n",
       "            </tr>\n",
       "            <tr>\n",
       "                        <th id=\"T_a11ba_level0_row6\" class=\"row_heading level0 row6\" >108</th>\n",
       "                        <th id=\"T_a11ba_level1_row6\" class=\"row_heading level1 row6\" >Extraction, Quickblade Of Trembling Hands</th>\n",
       "                        <td id=\"T_a11ba_row6_col0\" class=\"data row6 col0\" >9</td>\n",
       "                        <td id=\"T_a11ba_row6_col1\" class=\"data row6 col1\" >$3.53</td>\n",
       "                        <td id=\"T_a11ba_row6_col2\" class=\"data row6 col2\" >$31.77</td>\n",
       "            </tr>\n",
       "            <tr>\n",
       "                        <th id=\"T_a11ba_level0_row7\" class=\"row_heading level0 row7\" >78</th>\n",
       "                        <th id=\"T_a11ba_level1_row7\" class=\"row_heading level1 row7\" >Glimmer, Ender of the Moon</th>\n",
       "                        <td id=\"T_a11ba_row7_col0\" class=\"data row7 col0\" >7</td>\n",
       "                        <td id=\"T_a11ba_row7_col1\" class=\"data row7 col1\" >$4.40</td>\n",
       "                        <td id=\"T_a11ba_row7_col2\" class=\"data row7 col2\" >$30.80</td>\n",
       "            </tr>\n",
       "            <tr>\n",
       "                        <th id=\"T_a11ba_level0_row8\" class=\"row_heading level0 row8\" >72</th>\n",
       "                        <th id=\"T_a11ba_level1_row8\" class=\"row_heading level1 row8\" >Winter's Bite</th>\n",
       "                        <td id=\"T_a11ba_row8_col0\" class=\"data row8 col0\" >8</td>\n",
       "                        <td id=\"T_a11ba_row8_col1\" class=\"data row8 col1\" >$3.77</td>\n",
       "                        <td id=\"T_a11ba_row8_col2\" class=\"data row8 col2\" >$30.16</td>\n",
       "            </tr>\n",
       "            <tr>\n",
       "                        <th id=\"T_a11ba_level0_row9\" class=\"row_heading level0 row9\" >132</th>\n",
       "                        <th id=\"T_a11ba_level1_row9\" class=\"row_heading level1 row9\" >Persuasion</th>\n",
       "                        <td id=\"T_a11ba_row9_col0\" class=\"data row9 col0\" >9</td>\n",
       "                        <td id=\"T_a11ba_row9_col1\" class=\"data row9 col1\" >$3.22</td>\n",
       "                        <td id=\"T_a11ba_row9_col2\" class=\"data row9 col2\" >$28.99</td>\n",
       "            </tr>\n",
       "    </tbody></table>"
      ],
      "text/plain": [
       "<pandas.io.formats.style.Styler at 0x7fa2a379f670>"
      ]
     },
     "execution_count": 19,
     "metadata": {},
     "output_type": "execute_result"
    }
   ],
   "source": [
    "popular_summary = popular_items_table.sort_values(\"Total Purchase Value\", ascending=False).head(10)\n",
    "\n",
    "popular_summary.style.format({\"Item Price\":\"${:.2f}\", \"Total Purchase Value\":\"${:,.2f}\"})"
   ]
  },
  {
   "cell_type": "code",
   "execution_count": null,
   "metadata": {},
   "outputs": [],
   "source": []
  }
 ],
 "metadata": {
  "anaconda-cloud": {},
  "kernel_info": {
   "name": "python3"
  },
  "kernelspec": {
   "display_name": "Python 3",
   "language": "python",
   "name": "python3"
  },
  "language_info": {
   "codemirror_mode": {
    "name": "ipython",
    "version": 3
   },
   "file_extension": ".py",
   "mimetype": "text/x-python",
   "name": "python",
   "nbconvert_exporter": "python",
   "pygments_lexer": "ipython3",
   "version": "3.8.8"
  },
  "latex_envs": {
   "LaTeX_envs_menu_present": true,
   "autoclose": false,
   "autocomplete": true,
   "bibliofile": "biblio.bib",
   "cite_by": "apalike",
   "current_citInitial": 1,
   "eqLabelWithNumbers": true,
   "eqNumInitial": 1,
   "hotkeys": {
    "equation": "Ctrl-E",
    "itemize": "Ctrl-I"
   },
   "labels_anchors": false,
   "latex_user_defs": false,
   "report_style_numbering": false,
   "user_envs_cfg": false
  },
  "nteract": {
   "version": "0.2.0"
  }
 },
 "nbformat": 4,
 "nbformat_minor": 2
}
